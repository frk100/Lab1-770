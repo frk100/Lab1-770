{
 "cells": [
  {
   "cell_type": "markdown",
   "metadata": {},
   "source": [
    "# GTI770 -- Laboratoire 1"
   ]
  },
  {
   "cell_type": "markdown",
   "metadata": {},
   "source": [
    "**Par : Équipe 18 **  \n",
    "    Michel-Olivier Bouchard  \n",
    "    Francis Cadorette  \n",
    "    Mathieu Poulin  "
   ]
  },
  {
   "cell_type": "markdown",
   "metadata": {},
   "source": [
    "             "
   ]
  },
  {
   "cell_type": "markdown",
   "metadata": {},
   "source": [
    "### CODE"
   ]
  },
  {
   "cell_type": "code",
   "execution_count": 2,
   "metadata": {},
   "outputs": [],
   "source": [
    "# Imports General\n",
    "import numpy as np\n",
    "import matplotlib.pyplot as plt\n",
    "import os\n",
    "import sys\n",
    "import time\n",
    "import matplotlib"
   ]
  },
  {
   "cell_type": "code",
   "execution_count": null,
   "metadata": {},
   "outputs": [],
   "source": [
    "# Imports Scikit-Learn\n",
    "from sklearn.utils import shuffle\n",
    "#from sklearn.cross_validation import train_test_split\n",
    "from sklearn.model_selection import train_test_split\n",
    "from sklearn.preprocessing import normalize\n",
    "from sklearn.preprocessing import scale\n",
    "from sklearn.preprocessing import MinMaxScaler"
   ]
  },
  {
   "cell_type": "code",
   "execution_count": null,
   "metadata": {},
   "outputs": [],
   "source": [
    "#Imports from TP1 GTI770-H2018\n",
    "import csv\n",
    "import math\n",
    "import scipy.ndimage as nd\n",
    "from scipy.stats.mstats import mquantiles, kurtosis, skew\n",
    "from sklearn.preprocessing import LabelEncoder"
   ]
  },
  {
   "cell_type": "code",
   "execution_count": null,
   "metadata": {},
   "outputs": [],
   "source": [
    "import cv2"
   ]
  },
  {
   "cell_type": "code",
   "execution_count": null,
   "metadata": {},
   "outputs": [],
   "source": []
  },
  {
   "cell_type": "markdown",
   "metadata": {},
   "source": [
    "### Question 1"
   ]
  },
  {
   "cell_type": "markdown",
   "metadata": {},
   "source": [
    "**Avec les liens fournis en l’annexe de cet énoncé et avec vos trouvailles faites sur Internet par le\n",
    "biais de vos recherches personnelles, faites, à titre d’introduction, une revue de la littérature. Celle-ci\n",
    "doit faire état des recherches ayant été faites en la matière et des possibles pistes que vous\n",
    "pourriez suivre durant ce laboratoire pour effectuer l’extraction de primitives sur les images de\n",
    "galaxies.**"
   ]
  },
  {
   "cell_type": "code",
   "execution_count": null,
   "metadata": {},
   "outputs": [],
   "source": []
  },
  {
   "cell_type": "markdown",
   "metadata": {},
   "source": [
    "### Question 2 "
   ]
  },
  {
   "cell_type": "markdown",
   "metadata": {},
   "source": [
    "**Expliquer le choix des primitives. Quelle démarche avez-vous suivie afin d’effectuer votre choix\n",
    "de primitives? Sur quelles sources vous êtes-vous basées afin d’établir votre choix de primitives?**"
   ]
  },
  {
   "cell_type": "code",
   "execution_count": null,
   "metadata": {},
   "outputs": [],
   "source": []
  },
  {
   "cell_type": "markdown",
   "metadata": {},
   "source": [
    "### Question 3 "
   ]
  },
  {
   "cell_type": "markdown",
   "metadata": {},
   "source": [
    "**À l’aide de graphiques générés par votre script, expliquez l’efficacité de deux primitives qui\n",
    "permettent de bien distinguer les classes du problème.**"
   ]
  },
  {
   "cell_type": "code",
   "execution_count": null,
   "metadata": {},
   "outputs": [],
   "source": []
  },
  {
   "cell_type": "markdown",
   "metadata": {},
   "source": [
    "### Question 4 "
   ]
  },
  {
   "cell_type": "markdown",
   "metadata": {},
   "source": [
    "**À la suite de votre implémentation de l’arbre de décision, expliquer pour quelles raisons votre arbre\n",
    "de décision donne un tel score de précision. Qu’a fait la variable max_depth sur les performances\n",
    "de classification? Comment l’arbre de décision réagit-il au bruit?**"
   ]
  },
  {
   "cell_type": "code",
   "execution_count": null,
   "metadata": {},
   "outputs": [],
   "source": []
  },
  {
   "cell_type": "markdown",
   "metadata": {},
   "source": [
    "### Question 5 "
   ]
  },
  {
   "cell_type": "markdown",
   "metadata": {},
   "source": [
    "**Quelle autre primitive aurait également pu être ajoutée afin d’améliorer le pouvoir discriminant ou\n",
    "la performance de régression des probabilités?**"
   ]
  },
  {
   "cell_type": "code",
   "execution_count": null,
   "metadata": {},
   "outputs": [],
   "source": []
  },
  {
   "cell_type": "markdown",
   "metadata": {},
   "source": [
    "### Question 6 "
   ]
  },
  {
   "cell_type": "markdown",
   "metadata": {},
   "source": [
    "**Écrivez une conclusion qui résume le contenu de votre rapport. Dites, en résumé, la manière dont\n",
    "vous avez résolu le problème, quelles ont été vos primitives et les résultats que vous avez obtenus,\n",
    "et glissez un mot sur des améliorations possibles. Dites également, le cas échéant, ce qui a moins\n",
    "bien été durant la réalisation de ce laboratoire.**"
   ]
  },
  {
   "cell_type": "code",
   "execution_count": null,
   "metadata": {},
   "outputs": [],
   "source": []
  }
 ],
 "metadata": {
  "kernelspec": {
   "display_name": "Python 3",
   "language": "python",
   "name": "python3"
  },
  "language_info": {
   "codemirror_mode": {
    "name": "ipython",
    "version": 3
   },
   "file_extension": ".py",
   "mimetype": "text/x-python",
   "name": "python",
   "nbconvert_exporter": "python",
   "pygments_lexer": "ipython3",
   "version": "3.6.5"
  }
 },
 "nbformat": 4,
 "nbformat_minor": 2
}
